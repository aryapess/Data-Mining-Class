{
 "cells": [
  {
   "cell_type": "code",
   "execution_count": 1,
   "id": "7b1482f5",
   "metadata": {},
   "outputs": [],
   "source": [
    "import numpy as np\n",
    "import pandas as pd\n",
    "import matplotlib.pyplot as plt"
   ]
  },
  {
   "cell_type": "code",
   "execution_count": 2,
   "id": "71216ce9",
   "metadata": {},
   "outputs": [],
   "source": [
    "def pagerank(matrix, initial, iterations=10):\n",
    "    page_rank= initial\n",
    "    for i in range(iterations):\n",
    "        page_rank= np.matmul(matrix,page_rank)\n",
    "    return page_rank"
   ]
  },
  {
   "cell_type": "code",
   "execution_count": 5,
   "id": "31f6b9a5",
   "metadata": {},
   "outputs": [
    {
     "data": {
      "text/plain": [
       "array([0.12195841, 0.06058248, 0.2086792 , 0.22228495, 0.17252604,\n",
       "       0.21396891])"
      ]
     },
     "execution_count": 5,
     "metadata": {},
     "output_type": "execute_result"
    }
   ],
   "source": [
    "test_matrix= [[0,0.25,0,0,0,0.5],[0.5,0,0,0,0,0],[0,0.25,0,0,0.5,0.5],[0,0.25,1,0,0,0],[0.5,0,0,0.5,0,0],[0,0.25,0,0.5,0.5,0]]\n",
    "test_initial= np.array([1/6,1/6,1/6,1/6,1/6,1/6]).transpose()\n",
    "pagerank(test_matrix,test_initial,iterations=10)"
   ]
  },
  {
   "cell_type": "code",
   "execution_count": 6,
   "id": "b82823f9",
   "metadata": {},
   "outputs": [
    {
     "data": {
      "text/plain": [
       "array([0.1053772 , 0.06494141, 0.18423462, 0.22415161, 0.19500732,\n",
       "       0.22628784])"
      ]
     },
     "execution_count": 6,
     "metadata": {},
     "output_type": "execute_result"
    }
   ],
   "source": [
    "test_initial_1= np.array([1,0,0,0,0,0]).transpose()\n",
    "pagerank(test_matrix,test_initial_1,iterations=10)"
   ]
  },
  {
   "cell_type": "code",
   "execution_count": 7,
   "id": "cade95c7",
   "metadata": {},
   "outputs": [
    {
     "data": {
      "text/plain": [
       "array([0.1133728 , 0.06970215, 0.18759155, 0.24765015, 0.18145752,\n",
       "       0.20022583])"
      ]
     },
     "execution_count": 7,
     "metadata": {},
     "output_type": "execute_result"
    }
   ],
   "source": [
    "test_initial_2= np.array([0,0,0.5,0.5,0,0]).transpose()\n",
    "pagerank(test_matrix,test_initial_2,iterations=10)"
   ]
  }
 ],
 "metadata": {
  "kernelspec": {
   "display_name": "Python 3 (ipykernel)",
   "language": "python",
   "name": "python3"
  },
  "language_info": {
   "codemirror_mode": {
    "name": "ipython",
    "version": 3
   },
   "file_extension": ".py",
   "mimetype": "text/x-python",
   "name": "python",
   "nbconvert_exporter": "python",
   "pygments_lexer": "ipython3",
   "version": "3.8.11"
  }
 },
 "nbformat": 4,
 "nbformat_minor": 5
}
