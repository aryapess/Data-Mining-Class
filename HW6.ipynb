{
 "cells": [
  {
   "cell_type": "code",
   "execution_count": 1,
   "id": "dec7fd08",
   "metadata": {},
   "outputs": [
    {
     "data": {
      "text/html": [
       "<div>\n",
       "<style scoped>\n",
       "    .dataframe tbody tr th:only-of-type {\n",
       "        vertical-align: middle;\n",
       "    }\n",
       "\n",
       "    .dataframe tbody tr th {\n",
       "        vertical-align: top;\n",
       "    }\n",
       "\n",
       "    .dataframe thead th {\n",
       "        text-align: right;\n",
       "    }\n",
       "</style>\n",
       "<table border=\"1\" class=\"dataframe\">\n",
       "  <thead>\n",
       "    <tr style=\"text-align: right;\">\n",
       "      <th></th>\n",
       "      <th>mpg</th>\n",
       "      <th>cylinders</th>\n",
       "      <th>displacement</th>\n",
       "      <th>horsepower</th>\n",
       "      <th>weight</th>\n",
       "      <th>acceleration</th>\n",
       "      <th>model year</th>\n",
       "      <th>origin</th>\n",
       "      <th>car name</th>\n",
       "    </tr>\n",
       "  </thead>\n",
       "  <tbody>\n",
       "    <tr>\n",
       "      <th>0</th>\n",
       "      <td>18.0</td>\n",
       "      <td>8</td>\n",
       "      <td>307.0</td>\n",
       "      <td>130</td>\n",
       "      <td>3504</td>\n",
       "      <td>12.0</td>\n",
       "      <td>70</td>\n",
       "      <td>1</td>\n",
       "      <td>chevrolet chevelle malibu</td>\n",
       "    </tr>\n",
       "    <tr>\n",
       "      <th>1</th>\n",
       "      <td>15.0</td>\n",
       "      <td>8</td>\n",
       "      <td>350.0</td>\n",
       "      <td>165</td>\n",
       "      <td>3693</td>\n",
       "      <td>11.5</td>\n",
       "      <td>70</td>\n",
       "      <td>1</td>\n",
       "      <td>buick skylark 320</td>\n",
       "    </tr>\n",
       "    <tr>\n",
       "      <th>2</th>\n",
       "      <td>18.0</td>\n",
       "      <td>8</td>\n",
       "      <td>318.0</td>\n",
       "      <td>150</td>\n",
       "      <td>3436</td>\n",
       "      <td>11.0</td>\n",
       "      <td>70</td>\n",
       "      <td>1</td>\n",
       "      <td>plymouth satellite</td>\n",
       "    </tr>\n",
       "    <tr>\n",
       "      <th>3</th>\n",
       "      <td>16.0</td>\n",
       "      <td>8</td>\n",
       "      <td>304.0</td>\n",
       "      <td>150</td>\n",
       "      <td>3433</td>\n",
       "      <td>12.0</td>\n",
       "      <td>70</td>\n",
       "      <td>1</td>\n",
       "      <td>amc rebel sst</td>\n",
       "    </tr>\n",
       "    <tr>\n",
       "      <th>4</th>\n",
       "      <td>17.0</td>\n",
       "      <td>8</td>\n",
       "      <td>302.0</td>\n",
       "      <td>140</td>\n",
       "      <td>3449</td>\n",
       "      <td>10.5</td>\n",
       "      <td>70</td>\n",
       "      <td>1</td>\n",
       "      <td>ford torino</td>\n",
       "    </tr>\n",
       "  </tbody>\n",
       "</table>\n",
       "</div>"
      ],
      "text/plain": [
       "    mpg  cylinders  displacement horsepower  weight  acceleration  model year  \\\n",
       "0  18.0          8         307.0        130    3504          12.0          70   \n",
       "1  15.0          8         350.0        165    3693          11.5          70   \n",
       "2  18.0          8         318.0        150    3436          11.0          70   \n",
       "3  16.0          8         304.0        150    3433          12.0          70   \n",
       "4  17.0          8         302.0        140    3449          10.5          70   \n",
       "\n",
       "   origin                   car name  \n",
       "0       1  chevrolet chevelle malibu  \n",
       "1       1          buick skylark 320  \n",
       "2       1         plymouth satellite  \n",
       "3       1              amc rebel sst  \n",
       "4       1                ford torino  "
      ]
     },
     "execution_count": 1,
     "metadata": {},
     "output_type": "execute_result"
    }
   ],
   "source": [
    "import numpy as np\n",
    "import pandas as pd\n",
    "import matplotlib.pyplot as plt\n",
    "data= pd.read_csv('auto-mpg.csv')\n",
    "data.head()"
   ]
  },
  {
   "cell_type": "code",
   "execution_count": 2,
   "id": "2d395d1b",
   "metadata": {},
   "outputs": [
    {
     "data": {
      "text/plain": [
       "6"
      ]
     },
     "execution_count": 2,
     "metadata": {},
     "output_type": "execute_result"
    }
   ],
   "source": [
    "len(data[data.horsepower=='?'])"
   ]
  },
  {
   "cell_type": "code",
   "execution_count": 3,
   "id": "2f5d2823",
   "metadata": {},
   "outputs": [
    {
     "name": "stderr",
     "output_type": "stream",
     "text": [
      "C:\\Users\\user\\AppData\\Local\\Temp\\ipykernel_21824\\3914764891.py:3: SettingWithCopyWarning: \n",
      "A value is trying to be set on a copy of a slice from a DataFrame\n",
      "\n",
      "See the caveats in the documentation: https://pandas.pydata.org/pandas-docs/stable/user_guide/indexing.html#returning-a-view-versus-a-copy\n",
      "  data.horsepower[i]= data.horsepower[i-1]\n"
     ]
    },
    {
     "data": {
      "text/plain": [
       "0"
      ]
     },
     "execution_count": 3,
     "metadata": {},
     "output_type": "execute_result"
    }
   ],
   "source": [
    "for i in range(len(data)):\n",
    "    if data.horsepower[i]=='?':\n",
    "        data.horsepower[i]= data.horsepower[i-1]\n",
    "len(data[data.horsepower=='?'])"
   ]
  },
  {
   "cell_type": "code",
   "execution_count": 4,
   "id": "cd2b258d",
   "metadata": {},
   "outputs": [],
   "source": [
    "data['horsepower'] = data['horsepower'].astype(float)"
   ]
  },
  {
   "cell_type": "code",
   "execution_count": 5,
   "id": "8a671e16",
   "metadata": {},
   "outputs": [
    {
     "data": {
      "text/plain": [
       "array([[0.00511277, 0.00227234, 0.08720114, ..., 0.00340851, 0.019883  ,\n",
       "        0.00028404],\n",
       "       [0.00403885, 0.00215405, 0.09423973, ..., 0.00309645, 0.01884795,\n",
       "        0.00026926],\n",
       "       [0.00521025, 0.00231567, 0.09204783, ..., 0.00318404, 0.0202621 ,\n",
       "        0.00028946],\n",
       "       ...,\n",
       "       [0.01389964, 0.00173746, 0.05863912, ..., 0.00503862, 0.03561783,\n",
       "        0.00043436],\n",
       "       [0.01064467, 0.00152067, 0.04562   , ..., 0.0070711 , 0.03117367,\n",
       "        0.00038017],\n",
       "       [0.01137482, 0.00146772, 0.04366461, ..., 0.00711843, 0.03008822,\n",
       "        0.00036693]])"
      ]
     },
     "execution_count": 5,
     "metadata": {},
     "output_type": "execute_result"
    }
   ],
   "source": [
    "from sklearn import preprocessing\n",
    "data= data.drop(columns='car name')\n",
    "data_scaled = preprocessing.normalize(data, norm='l2')\n",
    "data_scaled"
   ]
  },
  {
   "cell_type": "code",
   "execution_count": 6,
   "id": "646d184c",
   "metadata": {},
   "outputs": [
    {
     "data": {
      "text/html": [
       "<div>\n",
       "<style scoped>\n",
       "    .dataframe tbody tr th:only-of-type {\n",
       "        vertical-align: middle;\n",
       "    }\n",
       "\n",
       "    .dataframe tbody tr th {\n",
       "        vertical-align: top;\n",
       "    }\n",
       "\n",
       "    .dataframe thead th {\n",
       "        text-align: right;\n",
       "    }\n",
       "</style>\n",
       "<table border=\"1\" class=\"dataframe\">\n",
       "  <thead>\n",
       "    <tr style=\"text-align: right;\">\n",
       "      <th></th>\n",
       "      <th>mpg</th>\n",
       "      <th>cylinders</th>\n",
       "      <th>displacement</th>\n",
       "      <th>horsepower</th>\n",
       "      <th>weight</th>\n",
       "      <th>acceleration</th>\n",
       "      <th>model year</th>\n",
       "      <th>origin</th>\n",
       "    </tr>\n",
       "  </thead>\n",
       "  <tbody>\n",
       "    <tr>\n",
       "      <th>0</th>\n",
       "      <td>0.005113</td>\n",
       "      <td>0.002272</td>\n",
       "      <td>0.087201</td>\n",
       "      <td>0.036926</td>\n",
       "      <td>0.995286</td>\n",
       "      <td>0.003409</td>\n",
       "      <td>0.019883</td>\n",
       "      <td>0.000284</td>\n",
       "    </tr>\n",
       "    <tr>\n",
       "      <th>1</th>\n",
       "      <td>0.004039</td>\n",
       "      <td>0.002154</td>\n",
       "      <td>0.094240</td>\n",
       "      <td>0.044427</td>\n",
       "      <td>0.994364</td>\n",
       "      <td>0.003096</td>\n",
       "      <td>0.018848</td>\n",
       "      <td>0.000269</td>\n",
       "    </tr>\n",
       "    <tr>\n",
       "      <th>2</th>\n",
       "      <td>0.005210</td>\n",
       "      <td>0.002316</td>\n",
       "      <td>0.092048</td>\n",
       "      <td>0.043419</td>\n",
       "      <td>0.994580</td>\n",
       "      <td>0.003184</td>\n",
       "      <td>0.020262</td>\n",
       "      <td>0.000289</td>\n",
       "    </tr>\n",
       "    <tr>\n",
       "      <th>3</th>\n",
       "      <td>0.004637</td>\n",
       "      <td>0.002319</td>\n",
       "      <td>0.088104</td>\n",
       "      <td>0.043472</td>\n",
       "      <td>0.994936</td>\n",
       "      <td>0.003478</td>\n",
       "      <td>0.020287</td>\n",
       "      <td>0.000290</td>\n",
       "    </tr>\n",
       "    <tr>\n",
       "      <th>4</th>\n",
       "      <td>0.004905</td>\n",
       "      <td>0.002308</td>\n",
       "      <td>0.087137</td>\n",
       "      <td>0.040395</td>\n",
       "      <td>0.995153</td>\n",
       "      <td>0.003030</td>\n",
       "      <td>0.020197</td>\n",
       "      <td>0.000289</td>\n",
       "    </tr>\n",
       "  </tbody>\n",
       "</table>\n",
       "</div>"
      ],
      "text/plain": [
       "        mpg  cylinders  displacement  horsepower    weight  acceleration  \\\n",
       "0  0.005113   0.002272      0.087201    0.036926  0.995286      0.003409   \n",
       "1  0.004039   0.002154      0.094240    0.044427  0.994364      0.003096   \n",
       "2  0.005210   0.002316      0.092048    0.043419  0.994580      0.003184   \n",
       "3  0.004637   0.002319      0.088104    0.043472  0.994936      0.003478   \n",
       "4  0.004905   0.002308      0.087137    0.040395  0.995153      0.003030   \n",
       "\n",
       "   model year    origin  \n",
       "0    0.019883  0.000284  \n",
       "1    0.018848  0.000269  \n",
       "2    0.020262  0.000289  \n",
       "3    0.020287  0.000290  \n",
       "4    0.020197  0.000289  "
      ]
     },
     "execution_count": 6,
     "metadata": {},
     "output_type": "execute_result"
    }
   ],
   "source": [
    "data_scaled = pd.DataFrame(data_scaled, columns = ['mpg','cylinders','displacement','horsepower','weight','acceleration',\n",
    "                                                  'model year','origin'])\n",
    "data_scaled.head()"
   ]
  },
  {
   "cell_type": "code",
   "execution_count": 7,
   "id": "b5b19e41",
   "metadata": {},
   "outputs": [],
   "source": [
    "from sklearn.model_selection import train_test_split\n",
    "\n",
    "train, test = train_test_split(data_scaled, test_size=0.33)\n",
    "predictor_train= train.drop(\"mpg\",axis=1)\n",
    "predictor_test= test.drop(\"mpg\",axis=1)\n",
    "response_train= train[\"mpg\"]\n",
    "response_test= test[\"mpg\"]"
   ]
  },
  {
   "cell_type": "code",
   "execution_count": 8,
   "id": "f8d7a81e",
   "metadata": {},
   "outputs": [
    {
     "data": {
      "text/plain": [
       "array([ 0.64936072, -0.11521621, -0.15276208, -1.6624725 , -0.09441377,\n",
       "        0.53898207,  0.43478508])"
      ]
     },
     "execution_count": 8,
     "metadata": {},
     "output_type": "execute_result"
    }
   ],
   "source": [
    "from sklearn.linear_model import LinearRegression\n",
    "reg = LinearRegression().fit(predictor_train, response_train)\n",
    "reg.coef_"
   ]
  },
  {
   "cell_type": "markdown",
   "id": "8f57c41c",
   "metadata": {},
   "source": [
    "The coefficient for the “year” attribute is 0.62\n",
    "This means that if all the other variables remain with same values and only the year increases by 1, out output (mpg) increases by 0.62"
   ]
  },
  {
   "cell_type": "code",
   "execution_count": 9,
   "id": "90fc0cba",
   "metadata": {},
   "outputs": [
    {
     "data": {
      "text/plain": [
       "1.4991863226908887e-06"
      ]
     },
     "execution_count": 9,
     "metadata": {},
     "output_type": "execute_result"
    }
   ],
   "source": [
    "from sklearn.metrics import mean_squared_error\n",
    "mean_squared_error(response_test, reg.predict(predictor_test))"
   ]
  },
  {
   "cell_type": "code",
   "execution_count": 10,
   "id": "522d5f93",
   "metadata": {},
   "outputs": [
    {
     "data": {
      "text/plain": [
       "2.1104205108707176e-05"
      ]
     },
     "execution_count": 10,
     "metadata": {},
     "output_type": "execute_result"
    }
   ],
   "source": [
    "from sklearn.linear_model import RidgeCV\n",
    "r_alphas = np.logspace(0.1, 1, 10)\n",
    "clf_ridge = RidgeCV(alphas=r_alphas).fit(predictor_train, response_train)\n",
    "mean_squared_error(response_test, clf_ridge.predict(predictor_test))"
   ]
  },
  {
   "cell_type": "code",
   "execution_count": 11,
   "id": "5a4cb678",
   "metadata": {},
   "outputs": [
    {
     "data": {
      "text/plain": [
       "array([ 5.28775593e-05, -1.34950084e-02, -1.42412953e-03,  6.20682976e-04,\n",
       "        2.00578888e-03,  8.20345135e-03,  3.63726199e-04])"
      ]
     },
     "execution_count": 11,
     "metadata": {},
     "output_type": "execute_result"
    }
   ],
   "source": [
    "clf_ridge.coef_"
   ]
  },
  {
   "cell_type": "code",
   "execution_count": 12,
   "id": "2a71109b",
   "metadata": {},
   "outputs": [
    {
     "data": {
      "text/plain": [
       "2.3230510752362007e-05"
      ]
     },
     "execution_count": 12,
     "metadata": {},
     "output_type": "execute_result"
    }
   ],
   "source": [
    "from sklearn.linear_model import LassoCV\n",
    "lassocv = LassoCV(alphas=r_alphas).fit(predictor_train, response_train)\n",
    "mean_squared_error(response_test, lassocv.predict(predictor_test))"
   ]
  },
  {
   "cell_type": "code",
   "execution_count": 13,
   "id": "71477497",
   "metadata": {},
   "outputs": [
    {
     "data": {
      "text/plain": [
       "array([ 0., -0., -0.,  0.,  0.,  0.,  0.])"
      ]
     },
     "execution_count": 13,
     "metadata": {},
     "output_type": "execute_result"
    }
   ],
   "source": [
    "lassocv.coef_"
   ]
  },
  {
   "cell_type": "markdown",
   "id": "117f2803",
   "metadata": {},
   "source": [
    "# Question 2"
   ]
  },
  {
   "cell_type": "code",
   "execution_count": 233,
   "id": "84932a53",
   "metadata": {},
   "outputs": [
    {
     "data": {
      "text/plain": [
       "(569, 30)"
      ]
     },
     "execution_count": 233,
     "metadata": {},
     "output_type": "execute_result"
    }
   ],
   "source": [
    "from sklearn.datasets import load_breast_cancer\n",
    "x,y = load_breast_cancer(return_X_y=True)\n",
    "x.shape"
   ]
  },
  {
   "cell_type": "code",
   "execution_count": 151,
   "id": "b7758dd9",
   "metadata": {},
   "outputs": [
    {
     "name": "stdout",
     "output_type": "stream",
     "text": [
      "Fitting 3 folds for each of 192 candidates, totalling 576 fits\n"
     ]
    },
    {
     "data": {
      "text/plain": [
       "(0.9613663789102386,\n",
       " {'base_estimator__max_depth': 20,\n",
       "  'base_estimator__min_samples_leaf': 3,\n",
       "  'max_features': 0.7,\n",
       "  'n_estimators': 5})"
      ]
     },
     "execution_count": 151,
     "metadata": {},
     "output_type": "execute_result"
    }
   ],
   "source": [
    "from sklearn import model_selection\n",
    "from sklearn.ensemble import BaggingClassifier\n",
    "from sklearn.tree import DecisionTreeClassifier\n",
    "from sklearn.model_selection import GridSearchCV\n",
    "\n",
    "kfold = model_selection.KFold(n_splits = 3)\n",
    "                       \n",
    "\n",
    "bc_params = {\"base_estimator__max_depth\": [3,5,10,20],\n",
    "          \"base_estimator__min_samples_leaf\": [1, 3, 5, 10],\n",
    "          'max_features': [0.5, 0.7, 1.0],\n",
    "          'n_estimators': [3, 5, 10, 20],\n",
    "}\n",
    "\n",
    "\n",
    "model = GridSearchCV(BaggingClassifier(DecisionTreeClassifier()), bc_params, cv=3, verbose=1)\n",
    "model.fit(x,y)\n",
    "model.best_score_, model.best_params_"
   ]
  },
  {
   "cell_type": "code",
   "execution_count": 154,
   "id": "3a7f1bb3",
   "metadata": {},
   "outputs": [
    {
     "name": "stdout",
     "output_type": "stream",
     "text": [
      "Fitting 3 folds for each of 12 candidates, totalling 36 fits\n"
     ]
    },
    {
     "data": {
      "text/plain": [
       "(0.9138494384108421, {'learning_rate': 0.5, 'n_estimators': 10})"
      ]
     },
     "execution_count": 154,
     "metadata": {},
     "output_type": "execute_result"
    }
   ],
   "source": [
    "from sklearn.ensemble import AdaBoostClassifier\n",
    "bc_params = {'n_estimators': [3, 5, 10, 20], 'learning_rate':[0.5,1,2]}\n",
    "\n",
    "model1 = GridSearchCV(AdaBoostClassifier(DecisionTreeClassifier()), bc_params, cv=3, verbose=1)\n",
    "model1.fit(x,y)\n",
    "model1.best_score_, model1.best_params_"
   ]
  },
  {
   "cell_type": "markdown",
   "id": "06fda38a",
   "metadata": {},
   "source": [
    "# Question 3"
   ]
  },
  {
   "cell_type": "code",
   "execution_count": 17,
   "id": "b1adbbe0",
   "metadata": {},
   "outputs": [
    {
     "data": {
      "text/plain": [
       "((60000, 28, 28), (10000, 28, 28))"
      ]
     },
     "execution_count": 17,
     "metadata": {},
     "output_type": "execute_result"
    }
   ],
   "source": [
    "import tensorflow as tf\n",
    "fashion_mnist = tf.keras.datasets.fashion_mnist\n",
    "(train_images, train_labels), (test_images, test_labels) = fashion_mnist.load_data()\n",
    "train_images.shape, test_images.shape"
   ]
  },
  {
   "cell_type": "code",
   "execution_count": 18,
   "id": "b4830e02",
   "metadata": {},
   "outputs": [
    {
     "data": {
      "text/plain": [
       "array([9, 0, 0, ..., 3, 0, 5], dtype=uint8)"
      ]
     },
     "execution_count": 18,
     "metadata": {},
     "output_type": "execute_result"
    }
   ],
   "source": [
    "train_labels"
   ]
  },
  {
   "cell_type": "code",
   "execution_count": 19,
   "id": "7ff59aef",
   "metadata": {},
   "outputs": [],
   "source": [
    "train_images = train_images / 255.0\n",
    "test_images = test_images / 255.0\n",
    "model = tf.keras.Sequential([\n",
    "    tf.keras.layers.Flatten(input_shape=(28, 28)),\n",
    "    tf.keras.layers.Dense(128, activation='relu'),\n",
    "    tf.keras.layers.Dense(10)\n",
    "])"
   ]
  },
  {
   "cell_type": "markdown",
   "id": "35e7f925",
   "metadata": {},
   "source": [
    "How many neurons does the hidden layer have in the given ANN? 128 Neurons"
   ]
  },
  {
   "cell_type": "code",
   "execution_count": 160,
   "id": "edb4d99a",
   "metadata": {},
   "outputs": [
    {
     "name": "stdout",
     "output_type": "stream",
     "text": [
      "Epoch 1/10\n",
      "1875/1875 [==============================] - 4s 724us/step - loss: 0.5051 - accuracy: 0.8219\n",
      "Epoch 2/10\n",
      "1875/1875 [==============================] - 1s 700us/step - loss: 0.3776 - accuracy: 0.8630\n",
      "Epoch 3/10\n",
      "1875/1875 [==============================] - 1s 690us/step - loss: 0.3380 - accuracy: 0.8763\n",
      "Epoch 4/10\n",
      "1875/1875 [==============================] - 1s 691us/step - loss: 0.3157 - accuracy: 0.8837\n",
      "Epoch 5/10\n",
      "1875/1875 [==============================] - 1s 697us/step - loss: 0.2949 - accuracy: 0.8912\n",
      "Epoch 6/10\n",
      "1875/1875 [==============================] - 1s 708us/step - loss: 0.2809 - accuracy: 0.8958\n",
      "Epoch 7/10\n",
      "1875/1875 [==============================] - 1s 683us/step - loss: 0.2697 - accuracy: 0.8996\n",
      "Epoch 8/10\n",
      "1875/1875 [==============================] - 1s 689us/step - loss: 0.2568 - accuracy: 0.9042\n",
      "Epoch 9/10\n",
      "1875/1875 [==============================] - 1s 701us/step - loss: 0.2492 - accuracy: 0.9070\n",
      "Epoch 10/10\n",
      "1875/1875 [==============================] - 1s 709us/step - loss: 0.2380 - accuracy: 0.9110\n",
      "313/313 - 0s - loss: 0.3480 - accuracy: 0.8793 - 295ms/epoch - 943us/step\n",
      "\n",
      "Test accuracy: 0.8792999982833862\n"
     ]
    }
   ],
   "source": [
    "model.compile(optimizer='adam',\n",
    "              loss=tf.keras.losses.SparseCategoricalCrossentropy(from_logits=True),\n",
    "              metrics=['accuracy'])\n",
    "model.fit(train_images, train_labels, epochs=10)\n",
    "test_loss, test_acc = model.evaluate(test_images,  test_labels, verbose=2)\n",
    "print('\\nTest accuracy:', test_acc)\n"
   ]
  },
  {
   "cell_type": "code",
   "execution_count": 161,
   "id": "458b0973",
   "metadata": {},
   "outputs": [
    {
     "name": "stdout",
     "output_type": "stream",
     "text": [
      "Epoch 1/10\n",
      "1875/1875 [==============================] - 1s 675us/step - loss: 0.5267 - accuracy: 0.8179\n",
      "Epoch 2/10\n",
      "1875/1875 [==============================] - 1s 665us/step - loss: 0.3955 - accuracy: 0.8600\n",
      "Epoch 3/10\n",
      "1875/1875 [==============================] - 1s 670us/step - loss: 0.3579 - accuracy: 0.8698\n",
      "Epoch 4/10\n",
      "1875/1875 [==============================] - 1s 691us/step - loss: 0.3324 - accuracy: 0.8782\n",
      "Epoch 5/10\n",
      "1875/1875 [==============================] - 1s 682us/step - loss: 0.3151 - accuracy: 0.8841\n",
      "Epoch 6/10\n",
      "1875/1875 [==============================] - 1s 692us/step - loss: 0.3037 - accuracy: 0.8886\n",
      "Epoch 7/10\n",
      "1875/1875 [==============================] - 1s 694us/step - loss: 0.2903 - accuracy: 0.8931\n",
      "Epoch 8/10\n",
      "1875/1875 [==============================] - 1s 668us/step - loss: 0.2801 - accuracy: 0.8965\n",
      "Epoch 9/10\n",
      "1875/1875 [==============================] - 1s 670us/step - loss: 0.2723 - accuracy: 0.8975\n",
      "Epoch 10/10\n",
      "1875/1875 [==============================] - 1s 674us/step - loss: 0.2624 - accuracy: 0.9028\n",
      "313/313 - 0s - loss: 0.3430 - accuracy: 0.8783 - 226ms/epoch - 723us/step\n",
      "\n",
      "Test accuracy: 0.8783000111579895\n"
     ]
    }
   ],
   "source": [
    "model = tf.keras.Sequential([\n",
    "    tf.keras.layers.Flatten(input_shape=(28, 28)),\n",
    "    tf.keras.layers.Dense(64, activation='relu'),\n",
    "    tf.keras.layers.Dense(10)\n",
    "])\n",
    "model.compile(optimizer='adam',\n",
    "              loss=tf.keras.losses.SparseCategoricalCrossentropy(from_logits=True),\n",
    "              metrics=['accuracy'])\n",
    "model.fit(train_images, train_labels, epochs=10)\n",
    "test_loss, test_acc = model.evaluate(test_images,  test_labels, verbose=2)\n",
    "print('\\nTest accuracy:', test_acc)"
   ]
  },
  {
   "cell_type": "code",
   "execution_count": 162,
   "id": "67ba6f23",
   "metadata": {},
   "outputs": [
    {
     "name": "stdout",
     "output_type": "stream",
     "text": [
      "Epoch 1/10\n",
      "1875/1875 [==============================] - 2s 928us/step - loss: 0.4829 - accuracy: 0.8286\n",
      "Epoch 2/10\n",
      "1875/1875 [==============================] - 2s 897us/step - loss: 0.3653 - accuracy: 0.8667\n",
      "Epoch 3/10\n",
      "1875/1875 [==============================] - 2s 892us/step - loss: 0.3262 - accuracy: 0.8799\n",
      "Epoch 4/10\n",
      "1875/1875 [==============================] - 2s 924us/step - loss: 0.3026 - accuracy: 0.8878\n",
      "Epoch 5/10\n",
      "1875/1875 [==============================] - 2s 926us/step - loss: 0.2828 - accuracy: 0.8958\n",
      "Epoch 6/10\n",
      "1875/1875 [==============================] - 2s 909us/step - loss: 0.2690 - accuracy: 0.8995\n",
      "Epoch 7/10\n",
      "1875/1875 [==============================] - 2s 916us/step - loss: 0.2583 - accuracy: 0.9032\n",
      "Epoch 8/10\n",
      "1875/1875 [==============================] - 2s 903us/step - loss: 0.2474 - accuracy: 0.9072\n",
      "Epoch 9/10\n",
      "1875/1875 [==============================] - 2s 902us/step - loss: 0.2390 - accuracy: 0.9101\n",
      "Epoch 10/10\n",
      "1875/1875 [==============================] - 2s 905us/step - loss: 0.2285 - accuracy: 0.9143\n",
      "313/313 - 0s - loss: 0.3307 - accuracy: 0.8868 - 245ms/epoch - 784us/step\n",
      "\n",
      "Test accuracy: 0.8867999911308289\n"
     ]
    }
   ],
   "source": [
    "model = tf.keras.Sequential([\n",
    "    tf.keras.layers.Flatten(input_shape=(28, 28)),\n",
    "    tf.keras.layers.Dense(256, activation='relu'),\n",
    "    tf.keras.layers.Dense(10)\n",
    "])\n",
    "model.compile(optimizer='adam',\n",
    "              loss=tf.keras.losses.SparseCategoricalCrossentropy(from_logits=True),\n",
    "              metrics=['accuracy'])\n",
    "model.fit(train_images, train_labels, epochs=10)\n",
    "test_loss, test_acc = model.evaluate(test_images,  test_labels, verbose=2)\n",
    "print('\\nTest accuracy:', test_acc)"
   ]
  },
  {
   "cell_type": "code",
   "execution_count": 164,
   "id": "d796e849",
   "metadata": {},
   "outputs": [
    {
     "name": "stdout",
     "output_type": "stream",
     "text": [
      "Epoch 1/10\n",
      "1875/1875 [==============================] - 2s 1ms/step - loss: 0.5055 - accuracy: 0.8196\n",
      "Epoch 2/10\n",
      "1875/1875 [==============================] - 2s 1ms/step - loss: 0.3885 - accuracy: 0.8585\n",
      "Epoch 3/10\n",
      "1875/1875 [==============================] - 2s 1ms/step - loss: 0.3545 - accuracy: 0.8695\n",
      "Epoch 4/10\n",
      "1875/1875 [==============================] - 2s 1ms/step - loss: 0.3325 - accuracy: 0.8769\n",
      "Epoch 5/10\n",
      "1875/1875 [==============================] - 2s 1ms/step - loss: 0.3187 - accuracy: 0.8835\n",
      "Epoch 6/10\n",
      "1875/1875 [==============================] - 2s 1ms/step - loss: 0.3030 - accuracy: 0.8870\n",
      "Epoch 7/10\n",
      "1875/1875 [==============================] - 2s 1ms/step - loss: 0.2923 - accuracy: 0.8922\n",
      "Epoch 8/10\n",
      "1875/1875 [==============================] - 2s 1ms/step - loss: 0.2833 - accuracy: 0.8949: 0s - loss: 0.2825 - accuracy: \n",
      "Epoch 9/10\n",
      "1875/1875 [==============================] - 2s 1ms/step - loss: 0.2767 - accuracy: 0.8977\n",
      "Epoch 10/10\n",
      "1875/1875 [==============================] - 2s 1ms/step - loss: 0.2689 - accuracy: 0.8996\n",
      "313/313 - 0s - loss: 0.3331 - accuracy: 0.8856 - 260ms/epoch - 832us/step\n",
      "\n",
      "Test accuracy: 0.8855999708175659\n"
     ]
    }
   ],
   "source": [
    "model = tf.keras.Sequential([\n",
    "    tf.keras.layers.Flatten(input_shape=(28, 28)),\n",
    "    tf.keras.layers.Dense(256, activation='relu'),\n",
    "    tf.keras.layers.Dropout(0.2),\n",
    "    tf.keras.layers.Dense(10)\n",
    "])\n",
    "model.compile(optimizer='adam',\n",
    "              loss=tf.keras.losses.SparseCategoricalCrossentropy(from_logits=True),\n",
    "              metrics=['accuracy'])\n",
    "model.fit(train_images, train_labels, epochs=10)\n",
    "test_loss, test_acc = model.evaluate(test_images,  test_labels, verbose=2)\n",
    "print('\\nTest accuracy:', test_acc)\n"
   ]
  },
  {
   "cell_type": "code",
   "execution_count": 165,
   "id": "1bde0cd3",
   "metadata": {},
   "outputs": [
    {
     "name": "stdout",
     "output_type": "stream",
     "text": [
      "Epoch 1/10\n",
      "1875/1875 [==============================] - 2s 1ms/step - loss: 0.5524 - accuracy: 0.8020\n",
      "Epoch 2/10\n",
      "1875/1875 [==============================] - 2s 1ms/step - loss: 0.4227 - accuracy: 0.8453\n",
      "Epoch 3/10\n",
      "1875/1875 [==============================] - 2s 983us/step - loss: 0.3918 - accuracy: 0.8549\n",
      "Epoch 4/10\n",
      "1875/1875 [==============================] - 2s 987us/step - loss: 0.3707 - accuracy: 0.8635\n",
      "Epoch 5/10\n",
      "1875/1875 [==============================] - 2s 991us/step - loss: 0.3585 - accuracy: 0.8673\n",
      "Epoch 6/10\n",
      "1875/1875 [==============================] - 2s 989us/step - loss: 0.3453 - accuracy: 0.8730\n",
      "Epoch 7/10\n",
      "1875/1875 [==============================] - 2s 989us/step - loss: 0.3371 - accuracy: 0.8763\n",
      "Epoch 8/10\n",
      "1875/1875 [==============================] - 2s 977us/step - loss: 0.3271 - accuracy: 0.8799\n",
      "Epoch 9/10\n",
      "1875/1875 [==============================] - 2s 985us/step - loss: 0.3226 - accuracy: 0.8812\n",
      "Epoch 10/10\n",
      "1875/1875 [==============================] - 2s 983us/step - loss: 0.3159 - accuracy: 0.8821\n",
      "313/313 - 0s - loss: 0.3416 - accuracy: 0.8749 - 240ms/epoch - 768us/step\n",
      "\n",
      "Test accuracy: 0.8748999834060669\n"
     ]
    }
   ],
   "source": [
    "model = tf.keras.Sequential([\n",
    "    tf.keras.layers.Flatten(input_shape=(28, 28)),\n",
    "    tf.keras.layers.Dense(256, activation='relu'),\n",
    "    tf.keras.layers.Dropout(0.4),\n",
    "    tf.keras.layers.Dense(10)\n",
    "])\n",
    "model.compile(optimizer='adam',\n",
    "              loss=tf.keras.losses.SparseCategoricalCrossentropy(from_logits=True),\n",
    "              metrics=['accuracy'])\n",
    "model.fit(train_images, train_labels, epochs=10)\n",
    "test_loss, test_acc = model.evaluate(test_images,  test_labels, verbose=2)\n",
    "print('\\nTest accuracy:', test_acc)"
   ]
  },
  {
   "cell_type": "code",
   "execution_count": 166,
   "id": "87eb0daf",
   "metadata": {},
   "outputs": [
    {
     "name": "stdout",
     "output_type": "stream",
     "text": [
      "Epoch 1/10\n",
      "1875/1875 [==============================] - 2s 1ms/step - loss: 0.4932 - accuracy: 0.8243\n",
      "Epoch 2/10\n",
      "1875/1875 [==============================] - 2s 1ms/step - loss: 0.3749 - accuracy: 0.8632\n",
      "Epoch 3/10\n",
      "1875/1875 [==============================] - 2s 1ms/step - loss: 0.3426 - accuracy: 0.8747\n",
      "Epoch 4/10\n",
      "1875/1875 [==============================] - 2s 1ms/step - loss: 0.3167 - accuracy: 0.8825\n",
      "Epoch 5/10\n",
      "1875/1875 [==============================] - 2s 1ms/step - loss: 0.3005 - accuracy: 0.8896\n",
      "Epoch 6/10\n",
      "1875/1875 [==============================] - 2s 1ms/step - loss: 0.2855 - accuracy: 0.8935\n",
      "Epoch 7/10\n",
      "1875/1875 [==============================] - 2s 1ms/step - loss: 0.2741 - accuracy: 0.8975\n",
      "Epoch 8/10\n",
      "1875/1875 [==============================] - 2s 1ms/step - loss: 0.2657 - accuracy: 0.9009\n",
      "Epoch 9/10\n",
      "1875/1875 [==============================] - 2s 1ms/step - loss: 0.2585 - accuracy: 0.9036\n",
      "Epoch 10/10\n",
      "1875/1875 [==============================] - 2s 1ms/step - loss: 0.2472 - accuracy: 0.9068\n",
      "313/313 - 0s - loss: 0.3248 - accuracy: 0.8861 - 283ms/epoch - 905us/step\n",
      "\n",
      "Test accuracy: 0.8860999941825867\n"
     ]
    }
   ],
   "source": [
    "model = tf.keras.Sequential([\n",
    "    tf.keras.layers.Flatten(input_shape=(28, 28)),\n",
    "    tf.keras.layers.Dense(256, activation='relu'),\n",
    "    tf.keras.layers.Dropout(0.1),\n",
    "    tf.keras.layers.Dense(10)\n",
    "])\n",
    "model.compile(optimizer='adam',\n",
    "              loss=tf.keras.losses.SparseCategoricalCrossentropy(from_logits=True),\n",
    "              metrics=['accuracy'])\n",
    "model.fit(train_images, train_labels, epochs=10)\n",
    "test_loss, test_acc = model.evaluate(test_images,  test_labels, verbose=2)\n",
    "print('\\nTest accuracy:', test_acc)"
   ]
  },
  {
   "cell_type": "code",
   "execution_count": null,
   "id": "d1180b22",
   "metadata": {},
   "outputs": [],
   "source": [
    "#CNN"
   ]
  },
  {
   "cell_type": "code",
   "execution_count": 5,
   "id": "95d9f60e",
   "metadata": {},
   "outputs": [],
   "source": [
    "model = tf.keras.Sequential()\n",
    "model.add(tf.keras.layers.Conv2D(filters=32, kernel_size=(3, 3) , activation=\"relu\", data_format=\"channels_last\"))\n",
    "model.add(tf.keras.layers.MaxPooling2D(pool_size=(2, 2)))\n",
    "model.add(tf.keras.layers.Conv2D(filters=32, kernel_size=(3, 3) , activation=\"relu\"))\n",
    "model.add(tf.keras.layers.MaxPooling2D(pool_size=(2, 2)))\n",
    "model.add(tf.keras.layers.Dense(256, activation='relu'))\n",
    "model.add(tf.keras.layers.Dropout(0.1))\n",
    "model.add(tf.keras.layers.Dense(10))\n",
    "\n",
    "model.compile(optimizer='adam',\n",
    "              loss=tf.keras.losses.SparseCategoricalCrossentropy(from_logits=True),\n",
    "              metrics=['accuracy'])"
   ]
  },
  {
   "cell_type": "code",
   "execution_count": 6,
   "id": "5d5ae883",
   "metadata": {},
   "outputs": [],
   "source": [
    "import keras\n",
    "from keras.models import Sequential\n",
    "from keras.layers import Conv2D, Lambda, MaxPooling2D # convolution layers\n",
    "from keras.layers import Dense, Dropout, Flatten # core layers\n",
    "train_images = train_images.reshape(-1,28,28,1)\n"
   ]
  },
  {
   "cell_type": "code",
   "execution_count": 7,
   "id": "e9ced37d",
   "metadata": {},
   "outputs": [],
   "source": [
    "model=Sequential()\n",
    "  \n",
    "model.add(Conv2D(filters=32, kernel_size = (3,3), activation=\"relu\", input_shape=(28,28,1),data_format=\"channels_last\"))\n",
    "model.add(Conv2D(filters=32, kernel_size = (3,3), activation=\"relu\"))\n",
    "model.add(MaxPooling2D(pool_size=(2,2)))\n",
    "    \n",
    "model.add(Flatten())\n",
    "model.add(Dense(256,activation=\"relu\"))\n",
    "model.add(Dense(10,activation=\"softmax\"))\n",
    "model.compile(loss=\"categorical_crossentropy\", optimizer=\"adam\", metrics=[\"accuracy\"])"
   ]
  },
  {
   "cell_type": "code",
   "execution_count": 8,
   "id": "33ad955c",
   "metadata": {},
   "outputs": [
    {
     "name": "stdout",
     "output_type": "stream",
     "text": [
      "Model: \"sequential_2\"\n",
      "_________________________________________________________________\n",
      " Layer (type)                Output Shape              Param #   \n",
      "=================================================================\n",
      " conv2d_2 (Conv2D)           (None, 26, 26, 32)        320       \n",
      "                                                                 \n",
      " conv2d_3 (Conv2D)           (None, 24, 24, 32)        9248      \n",
      "                                                                 \n",
      " max_pooling2d_2 (MaxPooling  (None, 12, 12, 32)       0         \n",
      " 2D)                                                             \n",
      "                                                                 \n",
      " flatten_1 (Flatten)         (None, 4608)              0         \n",
      "                                                                 \n",
      " dense_4 (Dense)             (None, 256)               1179904   \n",
      "                                                                 \n",
      " dense_5 (Dense)             (None, 10)                2570      \n",
      "                                                                 \n",
      "=================================================================\n",
      "Total params: 1,192,042\n",
      "Trainable params: 1,192,042\n",
      "Non-trainable params: 0\n",
      "_________________________________________________________________\n"
     ]
    }
   ],
   "source": [
    "model.summary()"
   ]
  },
  {
   "cell_type": "code",
   "execution_count": 9,
   "id": "b984c2e2",
   "metadata": {},
   "outputs": [
    {
     "name": "stdout",
     "output_type": "stream",
     "text": [
      "Epoch 1/10\n",
      "1875/1875 [==============================] - 72s 37ms/step - loss: 0.3682 - accuracy: 0.8687\n",
      "Epoch 2/10\n",
      "1875/1875 [==============================] - 70s 37ms/step - loss: 0.2258 - accuracy: 0.9161\n",
      "Epoch 3/10\n",
      "1875/1875 [==============================] - 70s 38ms/step - loss: 0.1731 - accuracy: 0.9350\n",
      "Epoch 4/10\n",
      "1875/1875 [==============================] - 70s 37ms/step - loss: 0.1302 - accuracy: 0.9518\n",
      "Epoch 5/10\n",
      "1875/1875 [==============================] - 70s 37ms/step - loss: 0.0947 - accuracy: 0.9640\n",
      "Epoch 6/10\n",
      "1875/1875 [==============================] - 71s 38ms/step - loss: 0.0673 - accuracy: 0.9753\n",
      "Epoch 7/10\n",
      "1875/1875 [==============================] - 71s 38ms/step - loss: 0.0528 - accuracy: 0.9807\n",
      "Epoch 8/10\n",
      "1875/1875 [==============================] - 70s 37ms/step - loss: 0.0357 - accuracy: 0.9862\n",
      "Epoch 9/10\n",
      "1875/1875 [==============================] - 70s 37ms/step - loss: 0.0291 - accuracy: 0.9896\n",
      "Epoch 10/10\n",
      "1875/1875 [==============================] - 61s 32ms/step - loss: 0.0253 - accuracy: 0.9906\n"
     ]
    },
    {
     "data": {
      "text/plain": [
       "<keras.callbacks.History at 0x270643eabb0>"
      ]
     },
     "execution_count": 9,
     "metadata": {},
     "output_type": "execute_result"
    }
   ],
   "source": [
    "from tensorflow.keras.utils import to_categorical\n",
    "\n",
    "train_labels = to_categorical(train_labels)\n",
    "model.fit(train_images, train_labels, epochs=10)"
   ]
  },
  {
   "cell_type": "code",
   "execution_count": 10,
   "id": "46bbf2ab",
   "metadata": {},
   "outputs": [
    {
     "name": "stdout",
     "output_type": "stream",
     "text": [
      "313/313 - 5s - loss: 0.4254 - accuracy: 0.9202 - 5s/epoch - 17ms/step\n",
      "\n",
      "Test accuracy: 0.920199990272522\n"
     ]
    }
   ],
   "source": [
    "test_labels = to_categorical(test_labels)\n",
    "test_loss, test_acc = model.evaluate(test_images,  test_labels, verbose=2)\n",
    "print('\\nTest accuracy:', test_acc)"
   ]
  },
  {
   "cell_type": "code",
   "execution_count": 15,
   "id": "259d9edc",
   "metadata": {
    "scrolled": true
   },
   "outputs": [
    {
     "name": "stdout",
     "output_type": "stream",
     "text": [
      "Epoch 1/10\n",
      "1875/1875 [==============================] - 52s 28ms/step - loss: 0.3680 - accuracy: 0.8669\n",
      "Epoch 2/10\n",
      "1875/1875 [==============================] - 47s 25ms/step - loss: 0.2339 - accuracy: 0.9147\n",
      "Epoch 3/10\n",
      "1875/1875 [==============================] - 44s 23ms/step - loss: 0.1834 - accuracy: 0.9320\n",
      "Epoch 4/10\n",
      "1875/1875 [==============================] - 44s 24ms/step - loss: 0.1484 - accuracy: 0.9446\n",
      "Epoch 5/10\n",
      "1875/1875 [==============================] - 45s 24ms/step - loss: 0.1131 - accuracy: 0.9580\n",
      "Epoch 6/10\n",
      "1875/1875 [==============================] - 49s 26ms/step - loss: 0.0888 - accuracy: 0.9671\n",
      "Epoch 7/10\n",
      "1875/1875 [==============================] - 47s 25ms/step - loss: 0.0684 - accuracy: 0.9744\n",
      "Epoch 8/10\n",
      "1875/1875 [==============================] - 48s 25ms/step - loss: 0.0536 - accuracy: 0.9799\n",
      "Epoch 9/10\n",
      "1875/1875 [==============================] - 49s 26ms/step - loss: 0.0421 - accuracy: 0.9848\n",
      "Epoch 10/10\n",
      "1875/1875 [==============================] - 47s 25ms/step - loss: 0.0335 - accuracy: 0.9879\n"
     ]
    },
    {
     "data": {
      "text/plain": [
       "<keras.callbacks.History at 0x2700d4272e0>"
      ]
     },
     "execution_count": 15,
     "metadata": {},
     "output_type": "execute_result"
    }
   ],
   "source": [
    "train_images = train_images.reshape(-1,28,28,1)\n",
    "model=Sequential()\n",
    "  \n",
    "model.add(Conv2D(filters=32, kernel_size = (3,3), activation=\"relu\", input_shape=(28,28,1),data_format=\"channels_last\"))\n",
    "model.add(Conv2D(filters=32, kernel_size = (3,3), activation=\"relu\"))\n",
    "model.add(MaxPooling2D(pool_size=(2,2)))\n",
    "    \n",
    "model.add(Flatten())\n",
    "model.add(Dense(128,activation=\"relu\"))\n",
    "model.add(Dense(10,activation=\"softmax\"))\n",
    "model.compile(loss=\"categorical_crossentropy\", optimizer=\"adam\", metrics=[\"accuracy\"])\n",
    "\n",
    "from tensorflow.keras.utils import to_categorical\n",
    "\n",
    "train_labels = to_categorical(train_labels)\n",
    "model.fit(train_images, train_labels, epochs=10)"
   ]
  },
  {
   "cell_type": "code",
   "execution_count": 16,
   "id": "f5ae817a",
   "metadata": {},
   "outputs": [
    {
     "name": "stdout",
     "output_type": "stream",
     "text": [
      "313/313 - 1s - loss: 0.3858 - accuracy: 0.9196 - 1s/epoch - 3ms/step\n",
      "\n",
      "Test accuracy: 0.9196000099182129\n"
     ]
    }
   ],
   "source": [
    "test_labels = to_categorical(test_labels)\n",
    "test_loss, test_acc = model.evaluate(test_images,  test_labels, verbose=2)\n",
    "print('\\nTest accuracy:', test_acc)"
   ]
  },
  {
   "cell_type": "code",
   "execution_count": 20,
   "id": "9157cd40",
   "metadata": {},
   "outputs": [
    {
     "name": "stdout",
     "output_type": "stream",
     "text": [
      "Epoch 1/10\n",
      "1875/1875 [==============================] - 24s 12ms/step - loss: 0.4107 - accuracy: 0.85340s - loss: 0.4113 - accura\n",
      "Epoch 2/10\n",
      "1875/1875 [==============================] - 23s 12ms/step - loss: 0.2593 - accuracy: 0.9056\n",
      "Epoch 3/10\n",
      "1875/1875 [==============================] - 24s 13ms/step - loss: 0.2092 - accuracy: 0.9233\n",
      "Epoch 4/10\n",
      "1875/1875 [==============================] - 24s 13ms/step - loss: 0.1720 - accuracy: 0.9371\n",
      "Epoch 5/10\n",
      "1875/1875 [==============================] - 23s 12ms/step - loss: 0.1422 - accuracy: 0.94740s - loss: 0.1424 - accu\n",
      "Epoch 6/10\n",
      "1875/1875 [==============================] - 23s 12ms/step - loss: 0.1161 - accuracy: 0.9570\n",
      "Epoch 7/10\n",
      "1875/1875 [==============================] - 24s 13ms/step - loss: 0.0945 - accuracy: 0.9649\n",
      "Epoch 8/10\n",
      "1875/1875 [==============================] - 25s 13ms/step - loss: 0.0769 - accuracy: 0.9714\n",
      "Epoch 9/10\n",
      "1875/1875 [==============================] - 27s 14ms/step - loss: 0.0605 - accuracy: 0.9779\n",
      "Epoch 10/10\n",
      "1875/1875 [==============================] - 28s 15ms/step - loss: 0.0521 - accuracy: 0.9806\n",
      "313/313 - 1s - loss: 0.3708 - accuracy: 0.9126 - 1s/epoch - 4ms/step\n",
      "\n",
      "Test accuracy: 0.9125999808311462\n"
     ]
    }
   ],
   "source": [
    "train_images = train_images.reshape(-1,28,28,1)\n",
    "model=Sequential()\n",
    "  \n",
    "model.add(Conv2D(filters=16, kernel_size = (3,3), activation=\"relu\", input_shape=(28,28,1),data_format=\"channels_last\"))\n",
    "model.add(Conv2D(filters=16, kernel_size = (3,3), activation=\"relu\"))\n",
    "model.add(MaxPooling2D(pool_size=(2,2)))\n",
    "    \n",
    "model.add(Flatten())\n",
    "model.add(Dense(128,activation=\"relu\"))\n",
    "model.add(Dense(10,activation=\"softmax\"))\n",
    "model.compile(loss=\"categorical_crossentropy\", optimizer=\"adam\", metrics=[\"accuracy\"])\n",
    "\n",
    "from tensorflow.keras.utils import to_categorical\n",
    "\n",
    "train_labels = to_categorical(train_labels)\n",
    "model.fit(train_images, train_labels, epochs=10)\n",
    "\n",
    "test_labels = to_categorical(test_labels)\n",
    "test_loss, test_acc = model.evaluate(test_images,  test_labels, verbose=2)\n",
    "print('\\nTest accuracy:', test_acc)"
   ]
  }
 ],
 "metadata": {
  "kernelspec": {
   "display_name": "Python 3 (ipykernel)",
   "language": "python",
   "name": "python3"
  },
  "language_info": {
   "codemirror_mode": {
    "name": "ipython",
    "version": 3
   },
   "file_extension": ".py",
   "mimetype": "text/x-python",
   "name": "python",
   "nbconvert_exporter": "python",
   "pygments_lexer": "ipython3",
   "version": "3.8.11"
  }
 },
 "nbformat": 4,
 "nbformat_minor": 5
}
